{
 "cells": [
  {
   "cell_type": "code",
   "execution_count": 2,
   "id": "51c6d200-fc49-459c-91ef-566015eeac10",
   "metadata": {},
   "outputs": [],
   "source": [
    "import pandas as pd\n",
    "import numpy as np"
   ]
  },
  {
   "cell_type": "code",
   "execution_count": 3,
   "id": "415a5075-b04a-4e7c-8e93-38b569d98d8c",
   "metadata": {},
   "outputs": [],
   "source": [
    "data=pd.read_csv('personal_health_data.csv')"
   ]
  },
  {
   "cell_type": "code",
   "execution_count": 4,
   "id": "be5728d0-1735-4959-9251-5054e8447679",
   "metadata": {},
   "outputs": [
    {
     "data": {
      "text/plain": [
       "Index(['User_ID', 'Age', 'Gender', 'Weight', 'Height', 'Medical_Conditions',\n",
       "       'Medication', 'Smoker', 'Alcohol_Consumption', 'Timestamp',\n",
       "       'Day_of_Week', 'Sleep_Duration', 'Deep_Sleep_Duration',\n",
       "       'REM_Sleep_Duration', 'Wakeups', 'Snoring', 'Heart_Rate',\n",
       "       'Blood_Oxygen_Level', 'ECG', 'Calories_Intake', 'Water_Intake',\n",
       "       'Stress_Level', 'Mood', 'Skin_Temperature', 'Body_Fat_Percentage',\n",
       "       'Muscle_Mass', 'Health_Score', 'Anomaly_Flag'],\n",
       "      dtype='object')"
      ]
     },
     "execution_count": 4,
     "metadata": {},
     "output_type": "execute_result"
    }
   ],
   "source": [
    "data.columns"
   ]
  },
  {
   "cell_type": "code",
   "execution_count": 5,
   "id": "f1afd084-5964-4115-954f-6c9afa7442d7",
   "metadata": {},
   "outputs": [],
   "source": [
    "df = pd.DataFrame(data)"
   ]
  },
  {
   "cell_type": "code",
   "execution_count": 6,
   "id": "a8e41b65-250c-4a16-bab0-373a076a43db",
   "metadata": {},
   "outputs": [
    {
     "data": {
      "text/plain": [
       "(10000, 28)"
      ]
     },
     "execution_count": 6,
     "metadata": {},
     "output_type": "execute_result"
    }
   ],
   "source": [
    "df.shape"
   ]
  },
  {
   "cell_type": "code",
   "execution_count": 7,
   "id": "6adf2c5b-4621-4a14-8998-c5faa29879cd",
   "metadata": {},
   "outputs": [
    {
     "data": {
      "text/plain": [
       "User_ID                   0\n",
       "Age                       0\n",
       "Gender                    0\n",
       "Weight                    0\n",
       "Height                    0\n",
       "Medical_Conditions     3304\n",
       "Medication                0\n",
       "Smoker                    0\n",
       "Alcohol_Consumption    3360\n",
       "Timestamp                 0\n",
       "Day_of_Week               0\n",
       "Sleep_Duration            0\n",
       "Deep_Sleep_Duration       0\n",
       "REM_Sleep_Duration        0\n",
       "Wakeups                   0\n",
       "Snoring                   0\n",
       "Heart_Rate                0\n",
       "Blood_Oxygen_Level        0\n",
       "ECG                       0\n",
       "Calories_Intake           0\n",
       "Water_Intake              0\n",
       "Stress_Level              0\n",
       "Mood                      0\n",
       "Skin_Temperature          0\n",
       "Body_Fat_Percentage       0\n",
       "Muscle_Mass               0\n",
       "Health_Score              0\n",
       "Anomaly_Flag              0\n",
       "dtype: int64"
      ]
     },
     "execution_count": 7,
     "metadata": {},
     "output_type": "execute_result"
    }
   ],
   "source": [
    "df.isnull().sum()"
   ]
  },
  {
   "cell_type": "raw",
   "id": "3e901cbb-a51e-40ce-98c5-0e2d6501da90",
   "metadata": {},
   "source": [
    "Explanation:\n",
    "BMI Calculation:\n",
    "\n",
    "BMI is calculated using the formula:\n",
    "BMI\n",
    "=\n",
    "Weight (kg)\n",
    "(\n",
    "Height (m)\n",
    ")\n",
    "2\n",
    "BMI= \n",
    "(Height (m)) \n",
    "2\n",
    " \n",
    "Weight (kg)\n",
    "​\n",
    " \n",
    "Health Risk Factor:\n",
    "\n",
    "This is a combination of BMI and Stress Level. You can adjust this formula based on the business needs.\n",
    "Engagement Level:\n",
    "\n",
    "Calculated by subtracting the Stress Level from the Sleep Duration.\n",
    "Churn Rate:\n",
    "\n",
    "The percentage of users with an Anomaly_Flag of 1.\n",
    "ARPU:\n",
    "\n",
    "Estimated by multiplying the Health Score by a constant (e.g., 10). Replace this with actual revenue data if available.\n",
    "CLTV:\n",
    "\n",
    "CLTV can be calculated using the formula: \n",
    "CLTV\n",
    "=\n",
    "ARPU\n",
    "×\n",
    "Gross Margin\n",
    "×\n",
    "1\n",
    "Churn Rate\n",
    "CLTV=ARPU×Gross Margin× \n",
    "Churn Rate\n",
    "1\n",
    "​\n",
    " ."
   ]
  },
  {
   "cell_type": "code",
   "execution_count": 8,
   "id": "cc74ad0c-d991-44a6-aa55-be460c7d39c8",
   "metadata": {},
   "outputs": [
    {
     "name": "stdout",
     "output_type": "stream",
     "text": [
      "Churn Rate: 62.28%\n",
      "ARPU: $496.93\n",
      "CLTV: $558.52\n",
      "   User_ID  Age Gender      Weight      Height Medical_Conditions Medication  \\\n",
      "0  U_00001   61  Other   88.677623  178.524231           Diabetes         No   \n",
      "1  U_00002   24   Male   86.742084  200.346358                NaN        Yes   \n",
      "2  U_00003   81  Other   61.656054  195.971356       Hypertension        Yes   \n",
      "3  U_00004   70  Other  141.513794  164.178216       Hypertension         No   \n",
      "4  U_00005   30  Other   80.552872  146.920675           Diabetes        Yes   \n",
      "\n",
      "  Smoker Alcohol_Consumption            Timestamp  ...     Mood  \\\n",
      "0     No            Moderate  2021-01-01 00:00:00  ...  Neutral   \n",
      "1     No            Moderate  2021-01-01 01:00:00  ...  Anxious   \n",
      "2     No            Moderate  2021-01-01 02:00:00  ...      Sad   \n",
      "3     No               Heavy  2021-01-01 03:00:00  ...    Happy   \n",
      "4    Yes               Heavy  2021-01-01 04:00:00  ...    Happy   \n",
      "\n",
      "   Skin_Temperature  Body_Fat_Percentage  Muscle_Mass  Health_Score  \\\n",
      "0         32.752993            17.432985    77.599448     25.992071   \n",
      "1         35.010044            23.957792    71.718936     64.308450   \n",
      "2         36.797523            22.995533    59.874936     78.003546   \n",
      "3         32.614592            13.410659    67.528098     16.454106   \n",
      "4         33.602319            24.920020    54.741487     42.528202   \n",
      "\n",
      "  Anomaly_Flag        BMI  Health_Risk_Factor Engagement_Level     Revenue  \n",
      "0            1  27.824009           27.824009         6.518206  259.920710  \n",
      "1            0  21.610606           21.610606         7.522446  643.084497  \n",
      "2            1  16.054269           16.054269         8.583386  780.035458  \n",
      "3            1  52.501016           52.501016         4.425767  164.541064  \n",
      "4            0  37.317729           37.317729         6.008918  425.282021  \n",
      "\n",
      "[5 rows x 32 columns]\n"
     ]
    }
   ],
   "source": [
    "# Calculate BMI and add it as a column (BMI = Weight (kg) / (Height (m)^2))\n",
    "df['BMI'] = df['Weight'] / (df['Height'] / 100) ** 2\n",
    "\n",
    "# Convert 'Stress_Level' to numeric, setting errors='coerce' to handle non-numeric values\n",
    "df['Stress_Level'] = pd.to_numeric(df['Stress_Level'], errors='coerce')\n",
    "\n",
    "# Handle NaN values by filling with 0 or other strategy\n",
    "df['Stress_Level'].fillna(0, inplace=True)\n",
    "\n",
    "# Health Risk Factor Example: combining BMI and stress level (simplified)\n",
    "df['Health_Risk_Factor'] = df['BMI'] + df['Stress_Level']\n",
    "\n",
    "# Example Engagement Level: Simplified\n",
    "df['Engagement_Level'] = df['Sleep_Duration'] - df['Stress_Level']\n",
    "\n",
    "# Calculate churn rate: Assuming 'Anomaly_Flag' = 1 means high risk of churn\n",
    "churn_rate = df['Anomaly_Flag'].mean()  # % of users with Anomaly_Flag = 1\n",
    "\n",
    "df['Revenue'] = df['Health_Score'] * 10  # Example revenue calculation\n",
    "ARPU = df['Revenue'].mean()\n",
    "\n",
    "# Calculate CLTV (Customer Lifetime Value)\n",
    "# Simplified: Assume Gross Margin = 70% (can vary by business)\n",
    "gross_margin = 0.7\n",
    "CLTV = ARPU * gross_margin * (1 / churn_rate if churn_rate != 0 else 0)\n",
    "\n",
    "# Print key metrics\n",
    "print(f\"Churn Rate: {churn_rate:.2%}\")\n",
    "print(f\"ARPU: ${ARPU:.2f}\")\n",
    "print(f\"CLTV: ${CLTV:.2f}\")\n",
    "\n",
    "# Print the DataFrame to verify the calculations\n",
    "print(df.head())"
   ]
  },
  {
   "cell_type": "raw",
   "id": "aa30f6b5-6f7f-48ce-9b70-32e6746c8ccc",
   "metadata": {},
   "source": [
    "BMI Calculation: Converts weight and height into BMI.\n",
    "Stress Level Conversion: Converts Stress_Level to numeric and handles non-numeric values by converting them to NaN and then replacing NaN with 0.\n",
    "Health Risk Factor: Combines BMI and Stress Level.\n",
    "Engagement Level: Subtracts Stress Level from Sleep Duration.\n",
    "Churn Rate: Calculates the percentage of users flagged as anomalies.\n",
    "ARPU and CLTV: Estimates revenue and customer lifetime value based on Health Score."
   ]
  }
 ],
 "metadata": {
  "kernelspec": {
   "display_name": "Python 3 (ipykernel)",
   "language": "python",
   "name": "python3"
  },
  "language_info": {
   "codemirror_mode": {
    "name": "ipython",
    "version": 3
   },
   "file_extension": ".py",
   "mimetype": "text/x-python",
   "name": "python",
   "nbconvert_exporter": "python",
   "pygments_lexer": "ipython3",
   "version": "3.11.7"
  }
 },
 "nbformat": 4,
 "nbformat_minor": 5
}
